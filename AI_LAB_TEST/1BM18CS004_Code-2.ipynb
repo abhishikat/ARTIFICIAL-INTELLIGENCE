{
 "cells": [
  {
   "cell_type": "code",
   "execution_count": 15,
   "metadata": {},
   "outputs": [],
   "source": [
    "import math\n",
    "\n",
    "maze = []\n",
    "path = []\n",
    "closedPath = []\n",
    "neigbhours = [[1, 1], [0, 1], [1, 0], [1, -1], [0, -1], [-1, 1], [-1, 0], [-1, -1]]\n",
    "\n",
    "\n"
   ]
  },
  {
   "cell_type": "code",
   "execution_count": 16,
   "metadata": {},
   "outputs": [],
   "source": [
    "def euclidDist(x, n, m):\n",
    "    dist = math.sqrt((n - 1 - x[0]) * 2 + (m - 1 - x[1]) * 2)\n",
    "    return dist\n",
    "\n",
    "\n"
   ]
  },
  {
   "cell_type": "code",
   "execution_count": 17,
   "metadata": {},
   "outputs": [],
   "source": [
    "def findShortestPath(nextPath, n, m):\n",
    "    minDistance = 999\n",
    "    next = []\n",
    "    for x in nextPath:\n",
    "        if (euclidDist(x, n, m) < minDistance):\n",
    "            minDistance = euclidDist(x, n, m)\n",
    "            next = x\n",
    "\n",
    "    return next\n",
    "\n",
    "\n"
   ]
  },
  {
   "cell_type": "code",
   "execution_count": 18,
   "metadata": {},
   "outputs": [],
   "source": [
    "def findPath(n, m, dest):\n",
    "    path.append([0, 0])\n",
    "\n",
    "    current = [0, 0]\n",
    "\n",
    "    while (current != dest):\n",
    "        nextPath = []\n",
    "        for x in neigbhours:\n",
    "            a = []\n",
    "            a.append(current[0] + x[0])\n",
    "            a.append(current[1] + x[1])\n",
    "            if a[0] > -1 and a[0] < n and a[1] > -1 and a[1] < m:\n",
    "                if (maze[a[0]][a[1]]):\n",
    "                    if a not in path and a not in closedPath:\n",
    "                        nextPath.append(a)\n",
    "\n",
    "        if (nextPath):\n",
    "            current = findShortestPath(nextPath, n, m)\n",
    "            path.append(current)\n",
    "        else:\n",
    "            if path:\n",
    "                closedPath.append(current)\n",
    "                path.pop()\n",
    "                if path:\n",
    "                    current = path[len(path) - 1]\n",
    "                else:\n",
    "                    print(\"NO PATH\")\n",
    "                    exit(0)\n",
    "            else:\n",
    "                print(\"NO PATH\")\n",
    "                exit(0)\n",
    "\n",
    "\n"
   ]
  },
  {
   "cell_type": "code",
   "execution_count": 19,
   "metadata": {},
   "outputs": [],
   "source": [
    "def main():\n",
    "    n = int(input(\"\\nEnter number of rows: \"))\n",
    "    m = int(input(\"\\nEnter number of cols: \"))\n",
    "    print(\"give co-ordinates of destination\")\n",
    "    x = int(input())\n",
    "    y = int(input())\n",
    "    dest = []\n",
    "    dest.append(x)\n",
    "    dest.append(y)\n",
    "\n",
    "    print(\"\\nEnter the maze structure: (0-blocked,1-free): \")\n",
    "\n",
    "    for i in range(n):\n",
    "        a = []\n",
    "        # for j in range(m):\n",
    "        #     a.append(int(input()))\n",
    "        a = list(map(int, input().split(\" \")))\n",
    "        maze.append(a)\n",
    "\n",
    "    print(\"\\n\\n*MAZE*\")\n",
    "    for i in range(n):\n",
    "        for j in range(m):\n",
    "            print(maze[i][j], end=\" \")\n",
    "        print()\n",
    "\n",
    "    findPath(n, m, dest)\n",
    "\n",
    "    print(\"\\n*PATH*\")\n",
    "    for i in range(n):\n",
    "        for j in range(m):\n",
    "            if ([i, j] in path):\n",
    "                print(\"-\", end=\" \")\n",
    "            else:\n",
    "                print(maze[i][j], end=\" \")\n",
    "        print()\n",
    "\n",
    "    print()\n",
    "    print(path)\n",
    "\n",
    "\n"
   ]
  },
  {
   "cell_type": "code",
   "execution_count": 20,
   "metadata": {},
   "outputs": [
    {
     "name": "stdin",
     "output_type": "stream",
     "text": [
      "\n",
      "Enter number of rows:  5\n",
      "\n",
      "Enter number of cols:  5\n"
     ]
    },
    {
     "name": "stdout",
     "output_type": "stream",
     "text": [
      "give co-ordinates of destination\n"
     ]
    },
    {
     "name": "stdin",
     "output_type": "stream",
     "text": [
      " 4\n",
      " 2\n"
     ]
    },
    {
     "name": "stdout",
     "output_type": "stream",
     "text": [
      "\n",
      "Enter the maze structure: (0-blocked,1-free): \n"
     ]
    },
    {
     "name": "stdin",
     "output_type": "stream",
     "text": [
      " 1 0 1 1 1\n",
      " 0 1 1 1 1\n",
      " 1 1 1 1 0\n",
      " 1 1 0 0 1\n",
      " 1 0 1 1 1\n"
     ]
    },
    {
     "name": "stdout",
     "output_type": "stream",
     "text": [
      "\n",
      "\n",
      "*MAZE*\n",
      "1 0 1 1 1 \n",
      "0 1 1 1 1 \n",
      "1 1 1 1 0 \n",
      "1 1 0 0 1 \n",
      "1 0 1 1 1 \n",
      "\n",
      "*PATH*\n",
      "- 0 1 1 1 \n",
      "0 - 1 1 1 \n",
      "1 1 - - 0 \n",
      "1 1 0 0 - \n",
      "1 0 - - - \n",
      "\n",
      "[[0, 0], [1, 1], [2, 2], [2, 3], [3, 4], [4, 4], [4, 3], [4, 2]]\n"
     ]
    }
   ],
   "source": [
    "main()\n"
   ]
  },
  {
   "cell_type": "code",
   "execution_count": null,
   "metadata": {},
   "outputs": [],
   "source": []
  }
 ],
 "metadata": {
  "kernelspec": {
   "display_name": "Python 3",
   "language": "python",
   "name": "python3"
  },
  "language_info": {
   "codemirror_mode": {
    "name": "ipython",
    "version": 3
   },
   "file_extension": ".py",
   "mimetype": "text/x-python",
   "name": "python",
   "nbconvert_exporter": "python",
   "pygments_lexer": "ipython3",
   "version": "3.8.3"
  }
 },
 "nbformat": 4,
 "nbformat_minor": 4
}
