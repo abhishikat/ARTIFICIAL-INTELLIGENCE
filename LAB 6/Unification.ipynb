{
  "nbformat": 4,
  "nbformat_minor": 0,
  "metadata": {
    "colab": {
      "name": "Unification.ipynb",
      "provenance": []
    },
    "kernelspec": {
      "name": "python3",
      "display_name": "Python 3"
    }
  },
  "cells": [
    {
      "cell_type": "markdown",
      "metadata": {
        "id": "UqW2IB5ozXPc"
      },
      "source": [
        "# Unification"
      ]
    },
    {
      "cell_type": "code",
      "metadata": {
        "id": "bGRU5vvRzHZl"
      },
      "source": [
        "\n",
        "noPred = 0\n",
        "noArg = [None for i in range(10)]\n",
        "nouse = ''\n",
        "predicate = [None for i in range(10)]\n",
        "argument = [[None for i in range(10)] for i in range(10)]\n",
        "\n",
        "\n"
      ],
      "execution_count": 1,
      "outputs": []
    },
    {
      "cell_type": "code",
      "metadata": {
        "id": "U6ZnoYGqzKpY"
      },
      "source": [
        "def main():\n",
        "    global noPred\n",
        "    char = 'y'\n",
        "    while(char == 'y'):\n",
        "        print(\"****PROGRAM FOR UNIFICATION****\")\n",
        "        noPred = int(input(\"Enter Number of Predicates:\"))\n",
        "        for i in range(noPred):\n",
        "            # nouse=input() #   //to accept \"enter\" as a character\n",
        "            print(\"Enter Predicate \", (i+1), \" :\")\n",
        "            predicate[i] = input()\n",
        "            print(\"Enter Number of Arguments for Predicate \", predicate[i], \" :\")\n",
        "            noArg[i] = int(input())\n",
        "\n",
        "            for j in range(noArg[i]):\n",
        "                print(\"Enter the argument \", j+1, \" :\")\n",
        "                argument[i][j] = input()\n",
        "\n",
        "        printPredicate()\n",
        "        check_arg_pred()\n",
        "        char = input(\"Do you want to proceed(y/n):   \")\n",
        "\n",
        "\n"
      ],
      "execution_count": 2,
      "outputs": []
    },
    {
      "cell_type": "code",
      "metadata": {
        "id": "PeDhTUzAzNy9"
      },
      "source": [
        "def printPredicate():\n",
        "\n",
        "    print(\"****PREDICATES ARE****\")\n",
        "    for i in range(noPred):\n",
        "        print(predicate[i], \"(\", end=\"\")\n",
        "        for j in range(noArg[i]):\n",
        "            print(argument[i][j], end=\"\")\n",
        "            if(j != noArg[i]-1):\n",
        "                print(\",\", end=\"\")\n",
        "        print(\")\")\n",
        "\n",
        "\n"
      ],
      "execution_count": 3,
      "outputs": []
    },
    {
      "cell_type": "code",
      "metadata": {
        "id": "cXzda8q7zQh1"
      },
      "source": [
        "def unify():\n",
        "    flag = 0\n",
        "    for i in range(noPred-1):\n",
        "        for j in range(noArg[i]):\n",
        "            if(argument[i][j] != argument[i+1][j]):\n",
        "                flag = 0\n",
        "                if(flag == 0):\n",
        "                    print(\"****SUBSTITUTION IS****\")\n",
        "                    print(argument[i+1][j], \"/\", argument[i][j])\n",
        "                    flag += 1\n",
        "\n",
        "        if(flag == 0):\n",
        "            print(\"Arguments are Identical\")\n",
        "            print(\"No need of Substitution\")\n",
        "            flag +=1\n",
        "\n",
        "\n"
      ],
      "execution_count": 4,
      "outputs": []
    },
    {
      "cell_type": "code",
      "metadata": {
        "id": "SJRYzbEZzTsz"
      },
      "source": [
        "def check_arg_pred():\n",
        "    predflag = 0\n",
        "    argflag = 0\n",
        "\n",
        "   \n",
        "    for i in range(noPred-1):\n",
        "        if(predicate[i] != predicate[i+1]):\n",
        "            print(\"Predicates are not same\")\n",
        "            print(\"Unification cannot progress\")\n",
        "            predflag = 1\n",
        "            break\n",
        "\n",
        "\n",
        "    if(predflag != 1):\n",
        "        ind = 0\n",
        "        key = noArg[ind]\n",
        "        length = len(noArg)\n",
        "        for i in range(0, key-1):\n",
        "            if i >= key:\n",
        "                continue\n",
        "            if ind != length - 1:\n",
        "                ind += 1\n",
        "                key = noArg[ind]\n",
        "            if(noArg[i] != noArg[i+1]):\n",
        "\n",
        "                print(\"No of arguments are not same\")\n",
        "                print(\"Unification cannot progress\")\n",
        "                argflag = 1\n",
        "                break\n",
        "\n",
        "        if(argflag == 0 and predflag != 1):\n",
        "            unify()\n",
        "\n",
        "\n"
      ],
      "execution_count": 5,
      "outputs": []
    },
    {
      "cell_type": "code",
      "metadata": {
        "colab": {
          "base_uri": "https://localhost:8080/"
        },
        "id": "2sJqxYtQzVT7",
        "outputId": "5590dad5-b569-4b25-f7af-c70f83c1a702"
      },
      "source": [
        "main()"
      ],
      "execution_count": null,
      "outputs": [
        {
          "output_type": "stream",
          "text": [
            "****PROGRAM FOR UNIFICATION****\n",
            "Enter Number of Predicates:3\n",
            "Enter Predicate  1  :\n",
            "a\n",
            "Enter No.of Arguments for Predicate  a  :\n",
            "2\n",
            "Enter argument  1  :\n",
            "3\n",
            "Enter argument  2  :\n",
            "2\n",
            "Enter Predicate  2  :\n",
            "2\n",
            "Enter No.of Arguments for Predicate  2  :\n",
            "2\n",
            "Enter argument  1  :\n",
            "1\n",
            "Enter argument  2  :\n",
            "6\n",
            "Enter Predicate  3  :\n",
            "5\n",
            "Enter No.of Arguments for Predicate  5  :\n",
            "2\n",
            "Enter argument  1  :\n",
            "1\n",
            "Enter argument  2  :\n",
            "7\n",
            "****PREDICATES ARE****\n",
            "a (3,2)\n",
            "2 (1,6)\n",
            "5 (1,7)\n",
            "Predicates are not same\n",
            "Unification cannot progress\n"
          ],
          "name": "stdout"
        }
      ]
    },
    {
      "cell_type": "code",
      "metadata": {
        "id": "gUUTPuNBzfFc"
      },
      "source": [
        ""
      ],
      "execution_count": null,
      "outputs": []
    }
  ]
}