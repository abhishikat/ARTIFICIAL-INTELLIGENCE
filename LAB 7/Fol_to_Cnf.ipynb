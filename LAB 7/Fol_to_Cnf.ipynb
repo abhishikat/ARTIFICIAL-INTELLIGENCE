{
 "cells": [
  {
   "cell_type": "markdown",
   "metadata": {
    "id": "_I_HtcQgl--0"
   },
   "source": [
    "## FOL TO CNF"
   ]
  },
  {
   "cell_type": "code",
   "execution_count": 3,
   "metadata": {
    "colab": {
     "base_uri": "https://localhost:8080/"
    },
    "id": "QWXoqr_tl96-",
    "outputId": "3afe504a-e910-4829-b0ce-300fb22ecfbe"
   },
   "outputs": [
    {
     "name": "stdout",
     "output_type": "stream",
     "text": [
      "Enter the preposition logic:       (a=>b)^(b<=>c)\n",
      "\n",
      "1.Removing double implies:      (a=>b)^(b=>c) ^ c)=>(a=>b)^(b\n",
      "\n",
      "2.Removing single implies:      (!a v b)^!(!b v c) ^ c) v (!a v b)^(b\n",
      "\n",
      "3.Demorgan's Law:               (!a v b)^!!b  ^ ! c ^ c) v (!a v b)^(b\n",
      "\n",
      "4.Removing double negation:     (!a v b)^!!b  ^ ! c ^ c) v (!a v b)^(b\n",
      "\n",
      "5.Removing unwanted brackets:   !a v b^!!b  ^ ! c ^ c v !a v b^b\n",
      "\n",
      "6.Grouping into CNF form:       (!a v b) ^ (!!b  ) ^ ( ! c ) ^ ( c v !a v b) ^ (b)\n"
     ]
    }
   ],
   "source": [
    "\n",
    "prep=input(\"Enter the preposition logic:       \")\n",
    "di=prep.find('<=>')\n",
    "if di == -1:\n",
    "    pass\n",
    "else:\n",
    "    #print(di)\n",
    "    prep=prep[0:di]+\"=>\"+prep[di+3:len(prep)]+\" ^ \"+prep[di+3:]+\"=>\"+prep[:di]\n",
    "    print(\"\\n1.Removing double implies:      \"+prep)\n",
    "i=prep.find('=>')\n",
    "while(i!=-1):\n",
    "    if prep[i-1]!=\")\":\n",
    "        prep=prep[0:i-1]+\"!\"+prep[i-1]+\" v \"+prep[i+2:]\n",
    "    else:\n",
    "        '''ib=prep.find('(')'''\n",
    "        j=i\n",
    "        while prep[j]!='(':\n",
    "            j-=1\n",
    "        prep=prep[0:j]+\"!\"+prep[j:i]+\" v \"+prep[i+2:]\n",
    "    i=prep.find('=>')\n",
    "print(\"\\n2.Removing single implies:      \"+prep)\n",
    "\n",
    "\n",
    "n=prep.find('!(')\n",
    "while(n!=-1):\n",
    "    if prep[n+1]=='(':\n",
    "        l=len(prep)\n",
    "        prepn=prep\n",
    "        prep=prepn[0:n+1]\n",
    "        i=n+2\n",
    "        while(prepn[i]!='^' and prepn[i]!='v'):\n",
    "            if(prepn[i]!='('):\n",
    "                prep+=prepn[i]\n",
    "            i+=1\n",
    "        if prepn[i]=='^':\n",
    "            prep+=' v '\n",
    "        elif prepn[i]=='v':\n",
    "            prep+=' ^ '\n",
    "        prep+='!'+prepn[i+1:prepn.find(')',i)]\n",
    "        prep+=prepn[prepn.find(')',i)+1:]\n",
    "    n=prep.find('!(')\n",
    "print(\"\\n3.Demorgan's Law:               \"+prep)\n",
    "\n",
    "prep = prep.replace(\"! !\", \"\")\n",
    "print(\"\\n4.Removing double negation:     \"+prep)\n",
    "\n",
    "prepn=prep\n",
    "prep=\"\"\n",
    "for i in prepn:\n",
    "    if i!='(' and i!=')':\n",
    "        prep+=i\n",
    "print(\"\\n5.Removing unwanted brackets:   \"+prep)\n",
    "\n",
    "prepn=prep\n",
    "prep=\"(\"\n",
    "for i in prepn:\n",
    "    if i=='^':\n",
    "        prep+=') ^ ('\n",
    "    else:\n",
    "        prep+=i\n",
    "prep+=')'\n",
    "print(\"\\n6.Grouping into CNF form:       \"+prep)"
   ]
  },
  {
   "cell_type": "code",
   "execution_count": null,
   "metadata": {
    "id": "L5SscRd3mMTf"
   },
   "outputs": [],
   "source": []
  }
 ],
 "metadata": {
  "colab": {
   "name": "Fol_to_Cnf.ipynb",
   "provenance": []
  },
  "kernelspec": {
   "display_name": "Python 3",
   "language": "python",
   "name": "python3"
  },
  "language_info": {
   "codemirror_mode": {
    "name": "ipython",
    "version": 3
   },
   "file_extension": ".py",
   "mimetype": "text/x-python",
   "name": "python",
   "nbconvert_exporter": "python",
   "pygments_lexer": "ipython3",
   "version": "3.8.3"
  }
 },
 "nbformat": 4,
 "nbformat_minor": 4
}
