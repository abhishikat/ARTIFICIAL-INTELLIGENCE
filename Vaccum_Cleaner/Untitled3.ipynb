{
 "cells": [
  {
   "cell_type": "markdown",
   "metadata": {},
   "source": [
    "# Vacuum Cleaner Program"
   ]
  },
  {
   "cell_type": "markdown",
   "metadata": {},
   "source": [
    "## Problem Statement"
   ]
  },
  {
   "cell_type": "markdown",
   "metadata": {},
   "source": [
    "### Given M x N grid(floor) create an agent that moves around the grid until the entire grid is clean\n",
    "    .Move the agent anyway you see fit until the floor is clean\n",
    "    .Agent can start at any tile on the floor"
   ]
  },
  {
   "cell_type": "markdown",
   "metadata": {},
   "source": [
    "### Floor is represented in this manner"
   ]
  },
  {
   "cell_type": "raw",
   "metadata": {},
   "source": [
    "'1' represents dirty and '0' represents clean\n",
    "floor = [[1, 0, 0, 0], \n",
    "         [0, 1, 0, 1],\n",
    "         [1, 0, 1, 1]]\n",
    "To clean simply convert '1' to '0'"
   ]
  },
  {
   "cell_type": "markdown",
   "metadata": {},
   "source": [
    "# Code"
   ]
  },
  {
   "cell_type": "code",
   "execution_count": 1,
   "metadata": {},
   "outputs": [],
   "source": [
    "def clean(floor):\n",
    "    for i in range(len(floor)):\n",
    "        print('Floor {} : '.format(i+1))\n",
    "        for j in range(len(floor[0])):\n",
    "            floor = print_floor(floor, i, j)\n",
    "        print()"
   ]
  },
  {
   "cell_type": "code",
   "execution_count": 2,
   "metadata": {},
   "outputs": [],
   "source": [
    "def print_floor(floor, row, col): # row, col represent the current vacuum cleaner position\n",
    "    if floor[row][col]:\n",
    "        floor[row][col] = 0\n",
    "        print(' Cleaned ', end = ' ')\n",
    "    else: print(' Already Cleaned ', end = ' ')\n",
    "    return floor"
   ]
  },
  {
   "cell_type": "code",
   "execution_count": 3,
   "metadata": {},
   "outputs": [
    {
     "name": "stdout",
     "output_type": "stream",
     "text": [
      "Floor 1 : \n",
      " Cleaned   Already Cleaned   Already Cleaned   Already Cleaned  \n",
      "Floor 2 : \n",
      " Already Cleaned   Cleaned   Already Cleaned   Cleaned  \n",
      "Floor 3 : \n",
      " Cleaned   Already Cleaned   Cleaned   Cleaned  \n"
     ]
    }
   ],
   "source": [
    "# Test 1\n",
    "floor = [[1, 0, 0, 0],\n",
    "         [0, 1, 0, 1],\n",
    "         [1, 0, 1, 1]]\n",
    "\n",
    "clean(floor)"
   ]
  },
  {
   "cell_type": "code",
   "execution_count": 4,
   "metadata": {},
   "outputs": [
    {
     "name": "stdout",
     "output_type": "stream",
     "text": [
      "Floor 1 : \n",
      " Cleaned   Cleaned   Already Cleaned   Already Cleaned   Cleaned   Already Cleaned   Already Cleaned  \n",
      "Floor 2 : \n",
      " Already Cleaned   Already Cleaned   Already Cleaned   Cleaned   Already Cleaned   Already Cleaned   Already Cleaned  \n",
      "Floor 3 : \n",
      " Already Cleaned   Cleaned   Cleaned   Cleaned   Cleaned   Cleaned   Cleaned  \n",
      "Floor 4 : \n",
      " Already Cleaned   Cleaned   Already Cleaned   Cleaned   Already Cleaned   Cleaned   Already Cleaned  \n"
     ]
    }
   ],
   "source": [
    "# Test 2\n",
    "floor = [[1, 1, 0, 0, 1, 0, 0],\n",
    "         [0, 0, 0, 1, 0, 0, 0],\n",
    "         [0, 1, 1, 1, 1, 1, 1],\n",
    "         [0, 1, 0, 1, 0, 1, 0]]\n",
    "\n",
    "clean(floor)"
   ]
  },
  {
   "cell_type": "code",
   "execution_count": 7,
   "metadata": {},
   "outputs": [
    {
     "name": "stdout",
     "output_type": "stream",
     "text": [
      "Floor 1 : \n",
      " Cleaned   Cleaned   Already Cleaned   Already Cleaned   Cleaned   Already Cleaned   Already Cleaned  \n",
      "Floor 2 : \n",
      " Already Cleaned   Already Cleaned   Already Cleaned   Cleaned   Already Cleaned   Cleaned   Already Cleaned  \n",
      "Floor 3 : \n",
      " Already Cleaned   Cleaned   Cleaned   Cleaned   Cleaned   Cleaned   Cleaned  \n",
      "Floor 4 : \n",
      " Already Cleaned   Cleaned   Already Cleaned   Cleaned   Already Cleaned   Cleaned   Already Cleaned  \n"
     ]
    }
   ],
   "source": [
    "# Test 3\n",
    "floor = [[1, 1, 0, 0, 1, 0, 0],\n",
    "         [0, 0, 0, 1, 0, 1, 0],\n",
    "         [0, 1, 1, 1, 1, 1, 1],\n",
    "         [0, 1, 0, 1, 0, 1, 0]]\n",
    "\n",
    "clean(floor)"
   ]
  }
 ],
 "metadata": {
  "kernelspec": {
   "display_name": "Python 3",
   "language": "python",
   "name": "python3"
  },
  "language_info": {
   "codemirror_mode": {
    "name": "ipython",
    "version": 3
   },
   "file_extension": ".py",
   "mimetype": "text/x-python",
   "name": "python",
   "nbconvert_exporter": "python",
   "pygments_lexer": "ipython3",
   "version": "3.8.3"
  }
 },
 "nbformat": 4,
 "nbformat_minor": 4
}
