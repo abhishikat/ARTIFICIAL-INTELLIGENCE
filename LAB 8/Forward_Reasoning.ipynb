{
 "cells": [
  {
   "cell_type": "code",
   "execution_count": 6,
   "metadata": {},
   "outputs": [
    {
     "ename": "ModuleNotFoundError",
     "evalue": "No module named 'aima'",
     "output_type": "error",
     "traceback": [
      "\u001b[0;31m---------------------------------------------------------------------------\u001b[0m",
      "\u001b[0;31mModuleNotFoundError\u001b[0m                       Traceback (most recent call last)",
      "\u001b[0;32m<ipython-input-6-22b567713a64>\u001b[0m in \u001b[0;36m<module>\u001b[0;34m\u001b[0m\n\u001b[0;32m----> 1\u001b[0;31m \u001b[0;32mimport\u001b[0m \u001b[0maima\u001b[0m\u001b[0;34m.\u001b[0m\u001b[0mutils\u001b[0m\u001b[0;34m\u001b[0m\u001b[0;34m\u001b[0m\u001b[0m\n\u001b[0m\u001b[1;32m      2\u001b[0m \u001b[0;32mimport\u001b[0m \u001b[0maima\u001b[0m\u001b[0;34m.\u001b[0m\u001b[0mlogic\u001b[0m\u001b[0;34m\u001b[0m\u001b[0;34m\u001b[0m\u001b[0m\n\u001b[1;32m      3\u001b[0m \u001b[0;34m\u001b[0m\u001b[0m\n\u001b[1;32m      4\u001b[0m \u001b[0;31m# The main entry point for this module\u001b[0m\u001b[0;34m\u001b[0m\u001b[0;34m\u001b[0m\u001b[0;34m\u001b[0m\u001b[0m\n\u001b[1;32m      5\u001b[0m \u001b[0;32mdef\u001b[0m \u001b[0mmain\u001b[0m\u001b[0;34m(\u001b[0m\u001b[0;34m)\u001b[0m\u001b[0;34m:\u001b[0m\u001b[0;34m\u001b[0m\u001b[0;34m\u001b[0m\u001b[0m\n",
      "\u001b[0;31mModuleNotFoundError\u001b[0m: No module named 'aima'"
     ]
    }
   ],
   "source": [
    "\n",
    "import aima.utils\n",
    "import aima.logic\n",
    "\n",
    "# The main entry point for this module\n",
    "def main():\n",
    "\n",
    "    # Create an array to hold clauses\n",
    "    clauses = []\n",
    "\n",
    "    # Add first-order logic clauses (rules and fact)\n",
    "    clauses.append(aima.utils.expr(\"(American(x) & Weapon(y) & Sells(x, y, z) & Hostile(z)) ==> Criminal(x)\"))\n",
    "    clauses.append(aima.utils.expr(\"Enemy(Nono, America)\"))\n",
    "    clauses.append(aima.utils.expr(\"Owns(Nono, M1)\"))\n",
    "    clauses.append(aima.utils.expr(\"Missile(M1)\"))\n",
    "    clauses.append(aima.utils.expr(\"(Missile(x) & Owns(Nono, x)) ==> Sells(West, x, Nono)\"))\n",
    "    clauses.append(aima.utils.expr(\"American(West)\"))\n",
    "    clauses.append(aima.utils.expr(\"Missile(x) ==> Weapon(x)\"))\n",
    "\n",
    "    # Create a first-order logic knowledge base (KB) with clauses\n",
    "    KB = aima.logic.FolKB(clauses)\n",
    "\n",
    "    # Add rules and facts with tell\n",
    "    KB.tell(aima.utils.expr('Enemy(Coco, America)'))\n",
    "    KB.tell(aima.utils.expr('Enemy(Jojo, America)'))\n",
    "    KB.tell(aima.utils.expr(\"Enemy(x, America) ==> Hostile(x)\"))\n",
    "\n",
    "    # Get information from the knowledge base with ask\n",
    "    hostile = aima.logic.fol_fc_ask(KB, aima.utils.expr('Hostile(x)'))\n",
    "    criminal = aima.logic.fol_fc_ask(KB, aima.utils.expr('Criminal(x)'))\n",
    "\n",
    "    # Print answers\n",
    "    print('Hostile?')\n",
    "    print(list(hostile))\n",
    "    print('\\nCriminal?')\n",
    "    print(list(criminal))\n",
    "    print()\n",
    "\n",
    "# Tell python to run main method\n",
    "if __name__ == \"__main__\": main()"
   ]
  },
  {
   "cell_type": "code",
   "execution_count": 4,
   "metadata": {},
   "outputs": [
    {
     "ename": "SyntaxError",
     "evalue": "unexpected EOF while parsing (<ipython-input-4-0f4af3d811d7>, line 2)",
     "output_type": "error",
     "traceback": [
      "\u001b[0;36m  File \u001b[0;32m\"<ipython-input-4-0f4af3d811d7>\"\u001b[0;36m, line \u001b[0;32m2\u001b[0m\n\u001b[0;31m    \u001b[0m\n\u001b[0m    ^\u001b[0m\n\u001b[0;31mSyntaxError\u001b[0m\u001b[0;31m:\u001b[0m unexpected EOF while parsing\n"
     ]
    }
   ],
   "source": [
    "\n",
    "    "
   ]
  },
  {
   "cell_type": "code",
   "execution_count": null,
   "metadata": {},
   "outputs": [],
   "source": []
  }
 ],
 "metadata": {
  "kernelspec": {
   "display_name": "Python 3",
   "language": "python",
   "name": "python3"
  },
  "language_info": {
   "codemirror_mode": {
    "name": "ipython",
    "version": 3
   },
   "file_extension": ".py",
   "mimetype": "text/x-python",
   "name": "python",
   "nbconvert_exporter": "python",
   "pygments_lexer": "ipython3",
   "version": "3.8.3"
  }
 },
 "nbformat": 4,
 "nbformat_minor": 4
}
